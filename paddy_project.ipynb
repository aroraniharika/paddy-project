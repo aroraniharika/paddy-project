{
 "cells": [
  {
   "cell_type": "markdown",
   "metadata": {
    "deletable": true,
    "editable": true
   },
   "source": [
    "# INPUTS"
   ]
  },
  {
   "cell_type": "code",
   "execution_count": 19,
   "metadata": {
    "collapsed": true,
    "deletable": true,
    "editable": true
   },
   "outputs": [],
   "source": [
    "start_point=[30.624801,75.549551]  #Bottom-left point of box\n",
    "end_point=[31.167619,76.180482] #Top-right point of box\n",
    "api_key=''  ##INSERT YOUR GOOGLE API KEY HERE\n",
    "\n",
    "dic_coor=[30.893299,75.864912] \n"
   ]
  },
  {
   "cell_type": "code",
   "execution_count": null,
   "metadata": {
    "collapsed": true,
    "deletable": true,
    "editable": true
   },
   "outputs": [],
   "source": []
  },
  {
   "cell_type": "code",
   "execution_count": 84,
   "metadata": {
    "collapsed": true,
    "deletable": true,
    "editable": true
   },
   "outputs": [],
   "source": [
    "import requests\n",
    "import matplotlib.pyplot as plt\n",
    "from skimage import io\n",
    "import os\n",
    "import cv2\n",
    "import numpy as np\n",
    "%matplotlib inline\n",
    "\n",
    "from sklearn.cluster import DBSCAN\n",
    "from sklearn.cluster import KMeans\n",
    "import json\n",
    "import pandas as pd\n",
    "\n",
    "import datetime\n",
    "from IPython.display import clear_output"
   ]
  },
  {
   "cell_type": "code",
   "execution_count": null,
   "metadata": {
    "collapsed": true,
    "deletable": true,
    "editable": true
   },
   "outputs": [],
   "source": []
  },
  {
   "cell_type": "code",
   "execution_count": 34,
   "metadata": {
    "collapsed": true,
    "deletable": true,
    "editable": true
   },
   "outputs": [],
   "source": [
    "def progressing(start_time,cur_step,total_steps):\n",
    "    bar_length=50\n",
    "    cur_time=datetime.datetime.today()\n",
    "    \n",
    "    cur_step +=1 ##because loop starts from 0\n",
    "    elapsed=cur_time-start_time\n",
    "    total=elapsed/cur_step *total_steps\n",
    "    left=total-elapsed\n",
    "    clear_output(wait=True)\n",
    "\n",
    "    print('Total elapsed: ',elapsed.__str__())\n",
    "    if cur_step == total_steps:\n",
    "        print('Time left: 0:00:00.0000')\n",
    "    else:\n",
    "        print('Time left: ',left.__str__())\n",
    "    print('Total Time: ',total.__str__())\n",
    "    print('\\nProgress: [','#'*(int(cur_step/total_steps*bar_length)),'-'*(bar_length-int(cur_step/total_steps*bar_length)),']',np.round(cur_step/total_steps*100,decimals=4),'%')\n",
    "\n",
    "    \n",
    "    \n"
   ]
  },
  {
   "cell_type": "code",
   "execution_count": null,
   "metadata": {
    "collapsed": true,
    "deletable": true,
    "editable": true
   },
   "outputs": [],
   "source": []
  },
  {
   "cell_type": "code",
   "execution_count": null,
   "metadata": {
    "collapsed": true,
    "deletable": true,
    "editable": true
   },
   "outputs": [],
   "source": []
  },
  {
   "cell_type": "code",
   "execution_count": null,
   "metadata": {
    "collapsed": true,
    "deletable": true,
    "editable": true
   },
   "outputs": [],
   "source": []
  },
  {
   "cell_type": "code",
   "execution_count": null,
   "metadata": {
    "collapsed": true,
    "deletable": true,
    "editable": true
   },
   "outputs": [],
   "source": []
  },
  {
   "cell_type": "code",
   "execution_count": 60,
   "metadata": {
    "collapsed": true,
    "deletable": true,
    "editable": true
   },
   "outputs": [],
   "source": [
    "\n",
    "width=500\n",
    "height=300\n",
    "\n",
    "##DON'T CHANGE THESE VALUES\n",
    "#lat_dist=0.005406999999998163\n",
    "#long_dist=0.01268699999999967-0.001973\n",
    "lat_dist=0.005495000000003358\n",
    "long_dist=0.01075500000001739\n",
    "zoom=16\n",
    "\n",
    "\n",
    "crop_section=0.0004505833333331803\n",
    "size=str(width)+'x'+str(height)"
   ]
  },
  {
   "cell_type": "code",
   "execution_count": 85,
   "metadata": {
    "collapsed": true,
    "deletable": true,
    "editable": true
   },
   "outputs": [],
   "source": [
    "##area of 1 px in km^2 \n",
    "px_area=((30.659516000000004 - 30.654021 )*111)/height*((76.27289400000002 - 76.262139)*97)/width \n",
    "px_area\n",
    "\n",
    "px_lat=((30.659516000000004 - 30.654021 )*111)/height\n",
    "px_long=((76.27289400000002 - 76.262139)*97)/width \n",
    "\n"
   ]
  },
  {
   "cell_type": "code",
   "execution_count": 22,
   "metadata": {
    "collapsed": true,
    "deletable": true,
    "editable": true
   },
   "outputs": [],
   "source": [
    "start_lat,end_lat=sorted([start_point[0],end_point[0]])\n",
    "\n",
    "start_long,end_long=sorted([start_point[1],end_point[1]])"
   ]
  },
  {
   "cell_type": "code",
   "execution_count": 23,
   "metadata": {
    "collapsed": true,
    "deletable": true,
    "editable": true
   },
   "outputs": [],
   "source": [
    "def number(a,b,dist):\n",
    "    tmp=a\n",
    "    counter=0\n",
    "    while tmp< b:\n",
    "        tmp += dist\n",
    "        counter +=1\n",
    "    return counter"
   ]
  },
  {
   "cell_type": "code",
   "execution_count": 24,
   "metadata": {
    "collapsed": true,
    "deletable": true,
    "editable": true
   },
   "outputs": [],
   "source": [
    "h_num=number(start_long,end_long,long_dist)\n",
    "v_num=number(start_lat,end_lat,lat_dist)"
   ]
  },
  {
   "cell_type": "code",
   "execution_count": 25,
   "metadata": {
    "collapsed": false,
    "deletable": true,
    "editable": true
   },
   "outputs": [
    {
     "data": {
      "text/plain": [
       "(59, 99)"
      ]
     },
     "execution_count": 25,
     "metadata": {},
     "output_type": "execute_result"
    }
   ],
   "source": [
    "h_num,v_num"
   ]
  },
  {
   "cell_type": "code",
   "execution_count": 26,
   "metadata": {
    "collapsed": false,
    "deletable": true,
    "editable": true
   },
   "outputs": [
    {
     "name": "stdout",
     "output_type": "stream",
     "text": [
      "Total number of images generated: 5841\n"
     ]
    }
   ],
   "source": [
    "print('Total number of images generated:',h_num*v_num)"
   ]
  },
  {
   "cell_type": "markdown",
   "metadata": {
    "deletable": true,
    "editable": true
   },
   "source": [
    "# DATA GENERATION"
   ]
  },
  {
   "cell_type": "code",
   "execution_count": 80,
   "metadata": {
    "collapsed": true,
    "deletable": true,
    "editable": true
   },
   "outputs": [],
   "source": [
    "#First run this cell\n",
    "latitude_list=[start_lat,start_lat+lat_dist]\n",
    "longitude_list=[start_long,start_long+long_dist]\n",
    "counter=1\n",
    "zz=0\n",
    "\n",
    "directory = os.path.abspath('images')\n",
    "if not os.path.exists(directory):\n",
    "    os.makedirs(directory)\n"
   ]
  },
  {
   "cell_type": "code",
   "execution_count": null,
   "metadata": {
    "collapsed": true,
    "deletable": true,
    "editable": true
   },
   "outputs": [],
   "source": []
  },
  {
   "cell_type": "markdown",
   "metadata": {
    "deletable": true,
    "editable": true
   },
   "source": [
    "zz=i\n",
    "counter=((zz)*h_num)+1\n",
    "longitude_list=[start_long,start_long+long_dist]\n",
    "counter"
   ]
  },
  {
   "cell_type": "code",
   "execution_count": 68,
   "metadata": {
    "collapsed": true,
    "deletable": true,
    "editable": true,
    "scrolled": true
   },
   "outputs": [],
   "source": [
    "strt=datetime.datetime.today()\n",
    "for i in range(zz,v_num):\n",
    "    for j in range(h_num):\n",
    "        lat=(latitude_list[0]+latitude_list[1])/2\n",
    "        long=(longitude_list[0]+longitude_list[1])/2\n",
    "        img_name='field_'+str(counter)+'_'+str(lat)+','+str(long)+'.png'\n",
    "        \n",
    "        img1 = open('temp_image1','wb')\n",
    "        img2 = open('temp_image2','wb')\n",
    "        img1.write(requests.get('https://maps.googleapis.com/maps/api/staticmap?center='+str(lat)+','+str(long)+'&zoom='+str(zoom)+'&size='+size+'&maptype=satellite&key='+str(api_key)).content)\n",
    "        img2.write(requests.get('https://maps.googleapis.com/maps/api/staticmap?center='+str(lat-crop_section)+','+str(long)+'&zoom='+str(zoom)+'&size='+size+'&maptype=satellite&key='+str(api_key)).content)\n",
    "        img1.close()\n",
    "        img2.close()\n",
    "        img1=cv2.imread('temp_image1')\n",
    "        img2=cv2.imread('temp_image2')\n",
    "        img1[-25:,:,:]=img2[-50:-25,:,:]\n",
    "        \n",
    "        cv2.imwrite('images/'+img_name,img1)\n",
    "        \n",
    "        \"\"\"image = io.imread('images/'+img_name)\n",
    "        plt.imshow(image)\n",
    "        plt.show()\"\"\"\n",
    "        \n",
    "        print(counter)\n",
    "        print(f\"Center:{lat,long}\\n Sides:\\n{latitude_list[0],longitude_list[0]}\\n {latitude_list[1],longitude_list[1]}\")\n",
    "        print('______________________________________')\n",
    "        \n",
    "        progressing(strt,counter-1,(h_num*v_num)-1)\n",
    "        counter += 1\n",
    "        \n",
    "        longitude_list=[longitude_list[1] , longitude_list[1]+long_dist]\n",
    "        #internal loop finished i.e. one row complete\n",
    "        \n",
    "    latitude_list=[latitude_list[1] , latitude_list[1]+lat_dist]\n",
    "    longitude_list=[start_long,start_long+long_dist]"
   ]
  },
  {
   "cell_type": "code",
   "execution_count": null,
   "metadata": {
    "collapsed": true,
    "deletable": true,
    "editable": true
   },
   "outputs": [],
   "source": []
  },
  {
   "cell_type": "code",
   "execution_count": null,
   "metadata": {
    "collapsed": true,
    "deletable": true,
    "editable": true
   },
   "outputs": [],
   "source": []
  },
  {
   "cell_type": "code",
   "execution_count": null,
   "metadata": {
    "collapsed": true,
    "deletable": true,
    "editable": true
   },
   "outputs": [],
   "source": []
  },
  {
   "cell_type": "code",
   "execution_count": null,
   "metadata": {
    "collapsed": true,
    "deletable": true,
    "editable": true
   },
   "outputs": [],
   "source": []
  },
  {
   "cell_type": "markdown",
   "metadata": {
    "deletable": true,
    "editable": true
   },
   "source": [
    "# ATTACHING IMAGES"
   ]
  },
  {
   "cell_type": "code",
   "execution_count": 74,
   "metadata": {
    "collapsed": true,
    "deletable": true,
    "editable": true
   },
   "outputs": [],
   "source": [
    "folder_path='images/'\n",
    "img_name_to_save='attached_image7.png'"
   ]
  },
  {
   "cell_type": "code",
   "execution_count": null,
   "metadata": {
    "collapsed": true,
    "deletable": true,
    "editable": true
   },
   "outputs": [],
   "source": [
    "\n",
    "img_path=os.path.abspath(folder_path)\n",
    "img_locs=[]\n",
    "for i in os.listdir(img_path):\n",
    "    img_locs.append(folder_path+i)"
   ]
  },
  {
   "cell_type": "code",
   "execution_count": null,
   "metadata": {
    "collapsed": true,
    "deletable": true,
    "editable": true
   },
   "outputs": [],
   "source": [
    "img_locs.sort(key=lambda x: int(x.split('_')[1]))"
   ]
  },
  {
   "cell_type": "code",
   "execution_count": null,
   "metadata": {
    "collapsed": true,
    "deletable": true,
    "editable": true
   },
   "outputs": [],
   "source": []
  },
  {
   "cell_type": "markdown",
   "metadata": {
    "deletable": true,
    "editable": true
   },
   "source": [
    "# Attached Image (grayscale) for low ram"
   ]
  },
  {
   "cell_type": "code",
   "execution_count": null,
   "metadata": {
    "collapsed": true,
    "deletable": true,
    "editable": true
   },
   "outputs": [],
   "source": [
    "\n",
    "final_image=np.zeros(( height*v_num , width*h_num))\n",
    "\n",
    "imgs=[]\n",
    "strt=datetime.datetime.today()\n",
    "for sr,i in enumerate(img_locs):\n",
    "    imgs.append(cv2.imread(i,0))\n",
    "    progressing(strt,sr,len(img_locs))\n",
    "    \n",
    "counter=0\n",
    "strt=datetime.datetime.today()\n",
    "for j in range(v_num-1,-1,-1):\n",
    "    for i in range(h_num):\n",
    "        final_image[j*height:j*height+height,i*width:i*width+width]=imgs[counter]\n",
    "        progressing(strt,counter,v_num*h_num)\n",
    "        counter += 1\n"
   ]
  },
  {
   "cell_type": "markdown",
   "metadata": {
    "deletable": true,
    "editable": true
   },
   "source": [
    "# Attached Image (colored) for high ram"
   ]
  },
  {
   "cell_type": "code",
   "execution_count": null,
   "metadata": {
    "collapsed": true,
    "deletable": true,
    "editable": true
   },
   "outputs": [],
   "source": [
    "\n",
    "final_image=np.zeros(( height*v_num , width*h_num,3))\n",
    "\n",
    "imgs=[]\n",
    "strt=datetime.datetime.today()\n",
    "for sr,i in enumerate(img_locs):\n",
    "    imgs.append(cv2.imread(i))\n",
    "    progressing(strt,sr,len(img_locs))\n",
    "    \n",
    "counter=0\n",
    "strt=datetime.datetime.today()\n",
    "for j in range(v_num-1,-1,-1):\n",
    "    for i in range(h_num):\n",
    "        final_image[j*height:j*height+height,i*width:i*width+width,:]=imgs[counter]\n",
    "        progressing(strt,counter,v_num*h_num)\n",
    "        counter += 1"
   ]
  },
  {
   "cell_type": "code",
   "execution_count": null,
   "metadata": {
    "collapsed": true,
    "deletable": true,
    "editable": true
   },
   "outputs": [],
   "source": []
  },
  {
   "cell_type": "code",
   "execution_count": 82,
   "metadata": {
    "collapsed": true,
    "deletable": true,
    "editable": true
   },
   "outputs": [],
   "source": [
    "#Saving Image\n",
    "cv2.imwrite(img_name_to_save,final_image)"
   ]
  },
  {
   "cell_type": "code",
   "execution_count": null,
   "metadata": {
    "collapsed": true,
    "deletable": true,
    "editable": true
   },
   "outputs": [],
   "source": []
  },
  {
   "cell_type": "markdown",
   "metadata": {
    "deletable": true,
    "editable": true
   },
   "source": [
    "# IMAGE SEGMENTATION"
   ]
  },
  {
   "cell_type": "code",
   "execution_count": null,
   "metadata": {
    "collapsed": true,
    "deletable": true,
    "editable": true
   },
   "outputs": [],
   "source": [
    "folder_to_load='images/'\n",
    "folder_to_save='images-kmeans/'\n",
    "\n",
    "directory = os.path.abspath(folder_to_save)\n",
    "if not os.path.exists(directory):\n",
    "    os.makedirs(directory)\n",
    "\n",
    "img_path=os.path.abspath(folder)\n",
    "img_locs=[]\n",
    "for i in os.listdir(img_path):\n",
    "    img_locs.append(os.path.join(i))\n",
    "\n",
    "img_locs.sort(key=lambda x:int(x.split('_')[1]))\n"
   ]
  },
  {
   "cell_type": "code",
   "execution_count": null,
   "metadata": {
    "collapsed": true,
    "deletable": true,
    "editable": true
   },
   "outputs": [],
   "source": [
    "strt=datetime.datetime.today()\n",
    "for sr,i in enumerate(img_locs):\n",
    "    img=cv2.imread(folder_to_load+i)\n",
    "    x,y,z=img.shape\n",
    "    Z=img.reshape(x*y,z)\n",
    "    \n",
    "    \n",
    "    # convert to np.float32\n",
    "    Z = np.float32(Z)\n",
    "\n",
    "    # define criteria, number of clusters(K) and apply kmeans()\n",
    "    criteria = (cv2.TERM_CRITERIA_EPS + cv2.TERM_CRITERIA_MAX_ITER, 10, 1.0)\n",
    "    K = 11\n",
    "    ret,label,center=cv2.kmeans(Z,K,None,criteria,9,cv2.KMEANS_RANDOM_CENTERS)\n",
    "\n",
    "    # Now convert back into uint8, and make original image\n",
    "    center = np.uint8(center)\n",
    "    res = center[label.flatten()]\n",
    "    fin = res.reshape((img.shape))\n",
    "    \n",
    "    \"\"\"km.fit(img)\n",
    "    cluster_centers = km.cluster_centers_\n",
    "    cluster_labels = km.labels_\n",
    "    fin=cluster_centers[cluster_labels].reshape(x, y, z)\"\"\"\n",
    "    \n",
    "    cv2.imwrite(folder_to_save+i,fin)\n",
    "    progressing(strt,sr,len(img_locs))\n",
    "    \n",
    "    #print(i.split('_')[1])"
   ]
  },
  {
   "cell_type": "code",
   "execution_count": null,
   "metadata": {
    "collapsed": true,
    "deletable": true,
    "editable": true
   },
   "outputs": [],
   "source": []
  },
  {
   "cell_type": "markdown",
   "metadata": {
    "deletable": true,
    "editable": true
   },
   "source": [
    "# Masking (getting threshold images)"
   ]
  },
  {
   "cell_type": "code",
   "execution_count": null,
   "metadata": {
    "collapsed": true,
    "deletable": true,
    "editable": true
   },
   "outputs": [],
   "source": [
    "folder_to_load='images-kmeans/'\n",
    "folder_to_save='images-kmeans-thresh/'\n",
    "\n",
    "directory = os.path.abspath(folder_to_save)\n",
    "if not os.path.exists(directory):\n",
    "    os.makedirs(directory)\n",
    "\n",
    "\n",
    "lower=np.array([20,70,10])\n",
    "upper=np.array([110,220,230])\n",
    "\n",
    "strt=datetime.datetime.today()\n",
    "for sr,i in enumerate(img_locs):\n",
    "    img=cv2.imread(folder_to_load+i)\n",
    "    hsv=cv2.cvtColor(img,cv2.COLOR_BGR2HSV)\n",
    "    mask=cv2.inRange(hsv,lower,upper)\n",
    "    \n",
    "    cv2.imwrite(folder_to_save+i,mask)\n",
    "    progressing(strt,sr,len(img_locs))"
   ]
  },
  {
   "cell_type": "code",
   "execution_count": null,
   "metadata": {
    "collapsed": true,
    "deletable": true,
    "editable": true
   },
   "outputs": [],
   "source": []
  },
  {
   "cell_type": "code",
   "execution_count": null,
   "metadata": {
    "collapsed": true,
    "deletable": true,
    "editable": true
   },
   "outputs": [],
   "source": []
  },
  {
   "cell_type": "code",
   "execution_count": null,
   "metadata": {
    "collapsed": true,
    "deletable": true,
    "editable": true
   },
   "outputs": [],
   "source": []
  },
  {
   "cell_type": "code",
   "execution_count": null,
   "metadata": {
    "collapsed": true,
    "deletable": true,
    "editable": true
   },
   "outputs": [],
   "source": []
  },
  {
   "cell_type": "markdown",
   "metadata": {
    "deletable": true,
    "editable": true
   },
   "source": [
    "# Representing Top n Patch Area on Image"
   ]
  },
  {
   "cell_type": "code",
   "execution_count": null,
   "metadata": {
    "collapsed": true,
    "deletable": true,
    "editable": true
   },
   "outputs": [],
   "source": [
    "#thresholded image\n",
    "image_to_load='old_data/attached_image6.png'\n",
    "image_to_save='patched4.png'\n",
    "n=5 ##n= -0 for all"
   ]
  },
  {
   "cell_type": "code",
   "execution_count": null,
   "metadata": {
    "collapsed": true,
    "deletable": true,
    "editable": true
   },
   "outputs": [],
   "source": [
    "img=cv2.imread(image_to_load,0)\n",
    "\n",
    "\"\"\"##inverting image\n",
    "mask0=img[img==0]\n",
    "mask255=img[img==255]\n",
    "\n",
    "img[mask0]=255\n",
    "img[mask255]=0\"\"\"\n",
    "\n",
    "im2, contours, hierarchy = cv2.findContours(img,cv2.RETR_LIST,cv2.CHAIN_APPROX_SIMPLE)\n",
    "\n",
    "cntsSorted = sorted(contours, key=lambda x: cv2.contourArea(x))\n",
    "cnts_temp=[i for i in cntsSorted if cv2.contourArea(i) >=23500.0]\n",
    "\n",
    "samp_img=cv2.imread(image_to_load)\n",
    "\n",
    "\n",
    "\n",
    "\n",
    "#cv2.namedWindow('image', cv2.WINDOW_AUTOSIZE)\n",
    "strt=datetime.datetime.today()\n",
    "for sr,i in enumerate(cnts_temp[-n:]):\n",
    "    cv2.drawContours(samp_img, [i], 0, (0,0,255), 2)\n",
    "    M=cv2.moments(i)\n",
    "    cx = int(M['m10']/M['m00'])\n",
    "    cy = int(M['m01']/M['m00'])\n",
    "    txt=str(np.round(cv2.contourArea(i)*px_area,decimals=3))+' sq. km ' ##contourarea gives number of pixels\n",
    "    cv2.putText(samp_img,txt,(cx,cy),cv2.FONT_HERSHEY_DUPLEX,1.4,(55,0,255),1)\n",
    "    progressing(strt,sr,len(cnts_temp[-n:]))\n",
    "    \"\"\"cv2.imshow('image',samp_img)\n",
    "    cv2.waitKey(2)\n",
    "cv2.waitKey(5000)\n",
    "cv2.destroyAllWindows()\"\"\"\n",
    "\n",
    "cv2.imwrite(image_to_save,samp_img)"
   ]
  },
  {
   "cell_type": "code",
   "execution_count": null,
   "metadata": {
    "collapsed": true,
    "deletable": true,
    "editable": true
   },
   "outputs": [],
   "source": []
  },
  {
   "cell_type": "markdown",
   "metadata": {
    "deletable": true,
    "editable": true
   },
   "source": [
    "# Getting Centroid points from image"
   ]
  },
  {
   "cell_type": "code",
   "execution_count": null,
   "metadata": {
    "collapsed": true,
    "deletable": true,
    "editable": true
   },
   "outputs": [],
   "source": [
    "#threshold image\n",
    "image_to_load='attached_image6.png'\n"
   ]
  },
  {
   "cell_type": "code",
   "execution_count": null,
   "metadata": {
    "collapsed": true,
    "deletable": true,
    "editable": true
   },
   "outputs": [],
   "source": [
    "img=cv2.imread(image_to_load,0)\n",
    "\n",
    "data=np.ones((1,3)) ##cx,cy,area\n",
    "\n",
    "im2, contours, hierarchy = cv2.findContours(img,cv2.RETR_LIST,cv2.CHAIN_APPROX_SIMPLE)\n",
    "\n",
    "cntsSorted = sorted(contours, key=lambda x: cv2.contourArea(x))\n",
    "cnts_temp=[i for i in cntsSorted if cv2.contourArea(i) >=23500.0]\n",
    "\n",
    "samp_img=img.copy()\n",
    "\n",
    "\n",
    "strt=datetime.datetime.today()\n",
    "#cv2.namedWindow('image', cv2.WINDOW_AUTOSIZE)\n",
    "for sr,i in enumerate(cnts_temp):\n",
    "    #cv2.drawContours(samp_img, [i], 0, (0,0,255), 2)\n",
    "    M=cv2.moments(i)\n",
    "    cx = int(M['m10']/M['m00'])\n",
    "    cy = int(M['m01']/M['m00'])\n",
    "    ar=np.round(cv2.contourArea(i)*px_area,decimals=3)\n",
    "    \n",
    "    data=np.concatenate((data,np.array([cx,cy,ar]).reshape(1,-1)))\n",
    "    #txt=str(np.round(cv2.contourArea(i)*px_area,decimals=3))+' sq. km ' ##contourarea gives number of pixels\n",
    "    #cv2.putText(samp_img,txt,(cx,cy),cv2.FONT_HERSHEY_DUPLEX,1.4,(55,0,255),1)\n",
    "    progressing(strt,sr,len(cnts_temp))\n",
    "\n",
    "#cv2.imwrite('patched_grouping.png',samp_img)\n",
    "data=data[1:]"
   ]
  },
  {
   "cell_type": "code",
   "execution_count": null,
   "metadata": {
    "collapsed": true,
    "deletable": true,
    "editable": true
   },
   "outputs": [],
   "source": []
  },
  {
   "cell_type": "code",
   "execution_count": null,
   "metadata": {
    "collapsed": true,
    "deletable": true,
    "editable": true
   },
   "outputs": [],
   "source": [
    "## Getting number of clusters from area, max area of each cluster should be 1500 acres i.e. 6.0702846 sq.km\n",
    "max_ar=6.0702846\n",
    "number_of_clusters=int(np.sum(data[:,2])//max_ar)\n",
    "number_of_clusters"
   ]
  },
  {
   "cell_type": "code",
   "execution_count": null,
   "metadata": {
    "collapsed": true,
    "deletable": true,
    "editable": true
   },
   "outputs": [],
   "source": [
    "img_height=img.shape[1]\n",
    "img_height"
   ]
  },
  {
   "cell_type": "code",
   "execution_count": null,
   "metadata": {
    "collapsed": true,
    "deletable": true,
    "editable": true
   },
   "outputs": [],
   "source": []
  },
  {
   "cell_type": "code",
   "execution_count": null,
   "metadata": {
    "collapsed": true,
    "deletable": true,
    "editable": true
   },
   "outputs": [],
   "source": [
    "km=KMeans(n_clusters=number_of_clusters)\n",
    "km.fit(data[:,:2])"
   ]
  },
  {
   "cell_type": "markdown",
   "metadata": {
    "deletable": true,
    "editable": true
   },
   "source": [
    "# Plotting all Clusters"
   ]
  },
  {
   "cell_type": "code",
   "execution_count": null,
   "metadata": {
    "collapsed": true,
    "deletable": true,
    "editable": true
   },
   "outputs": [],
   "source": [
    "plt.figure(figsize=(15,15))\n",
    "color_list=['red','blue','yellow','pink','green','brown','cyan','gray']\n",
    "\n",
    "for sr,i in enumerate(set(km.labels_)):\n",
    "    cluster_label=np.where(km.labels_==i)[0]\n",
    "    color=['black' if i==-1 else color_list[sr%len(color_list)]]\n",
    "    plt.scatter(data[cluster_label,0],img_height-data[cluster_label,1],c=color,s=[data[cluster_label,2]/max(data[:,2])*10000])\n",
    "    print(i, np.sum(data[cluster_label,2])*247 ,color)\n"
   ]
  },
  {
   "cell_type": "code",
   "execution_count": null,
   "metadata": {
    "collapsed": true,
    "deletable": true,
    "editable": true
   },
   "outputs": [],
   "source": []
  },
  {
   "cell_type": "markdown",
   "metadata": {
    "deletable": true,
    "editable": true
   },
   "source": [
    "# Plotting Clusters above 1500 acres area"
   ]
  },
  {
   "cell_type": "code",
   "execution_count": null,
   "metadata": {
    "collapsed": true,
    "deletable": true,
    "editable": true
   },
   "outputs": [],
   "source": [
    "farms=[]\n",
    "\n",
    "cluster_dict={}\n",
    "\n",
    "min_area=1500.0\n",
    "\n",
    "plt.figure(figsize=(15,15))\n",
    "color_list=['red','blue','yellow','pink','green','brown','magenta','cyan','gray','lime']\n",
    "counter=0\n",
    "for sr,i in enumerate(set(km.labels_)):\n",
    "    cluster_label=np.where(km.labels_==i)[0]\n",
    "    color=['black' if i==-1 else color_list[sr%len(color_list)]]\n",
    "    area=np.sum(data[cluster_label,2])*247\n",
    "    if area >=min_area:\n",
    "        counter += 1\n",
    "        plt.scatter(data[cluster_label,0],img_height-data[cluster_label,1],c=color,s=[data[cluster_label,2]/max(data[:,2])*10000])\n",
    "        plt.annotate(i,(km.cluster_centers_[i][0],img_height-km.cluster_centers_[i][1]))\n",
    "        plt.annotate(i,(km.cluster_centers_[i][0],img_height-km.cluster_centers_[i][1]))\n",
    "        farms.extend(list(cluster_label))\n",
    "        cluster_dict[i]=cluster_label\n",
    "        print(i,len(data[cluster_label,2]),area  ,color)\n",
    "print('Total Clusters: ',counter)\n",
    "\n",
    "##plotting DIC on map\n",
    "\n",
    "dic_lat=int((end_point[0] - dic_coor[0])*111/px_lat)\n",
    "dic_long=int((dic_coor[1] - start_point[1])*97/px_long)\n",
    "plt.scatter(dic_lat,img_height-dic_long,c='black',s=1000,marker='*')"
   ]
  },
  {
   "cell_type": "code",
   "execution_count": null,
   "metadata": {
    "collapsed": true,
    "deletable": true,
    "editable": true
   },
   "outputs": [],
   "source": []
  },
  {
   "cell_type": "markdown",
   "metadata": {
    "deletable": true,
    "editable": true
   },
   "source": [
    "# Creating Dataframes"
   ]
  },
  {
   "cell_type": "code",
   "execution_count": null,
   "metadata": {
    "collapsed": true,
    "deletable": true,
    "editable": true
   },
   "outputs": [],
   "source": [
    "df=pd.DataFrame(columns=['Origin_Address','Destination_Address','Origin_Coordinates','Destination_Coordinates','Duration','Distance','Cluster_Area(Acres)'])\n",
    "\n",
    "df2=pd.DataFrame(columns=['Cluster_ID','Cluster_Name','Farm_Coordinates','Farm_Area'])"
   ]
  },
  {
   "cell_type": "markdown",
   "metadata": {
    "deletable": true,
    "editable": true
   },
   "source": [
    "# Adding Data to Dataframes"
   ]
  },
  {
   "cell_type": "code",
   "execution_count": null,
   "metadata": {
    "collapsed": true,
    "deletable": true,
    "editable": true
   },
   "outputs": [],
   "source": [
    "desti=str(dic_coor[0])+','+str(dic_coor[1])\n",
    "\n",
    "strt=datetime.datetime.today()\n",
    "for sr,i in enumerate(cluster_dict.keys()):\n",
    "    lats=end_point[0] - (km.cluster_centers_[i,1]*px_lat)/111\n",
    "    longs=(km.cluster_centers_[i,0]*px_long)/97 + start_point[1]\n",
    "    area=np.sum(data[list(cluster_dict[i]),2])*247\n",
    "    \n",
    "    \n",
    "    origin=str(lats)+','+str(longs)\n",
    "    res=requests.get(\n",
    "        'https://maps.googleapis.com/maps/api/distancematrix/json?units='+'metric'+\n",
    "        '&origins='+origin+\n",
    "        '&destinations='+desti+\n",
    "        '&key='+api_key\n",
    "    ).json()\n",
    "    dur=res['rows'][0]['elements'][0]['duration']['text']\n",
    "    dis=res['rows'][0]['elements'][0]['distance']['text']\n",
    "    origin_addr=res['origin_addresses'][0]\n",
    "    desti_addr=res['destination_addresses'][0]\n",
    "    df.loc[i]=[origin_addr,desti_addr,origin,desti,dur,dis,area]\n",
    "    progressing(strt,sr,len(cluster_dict.keys()))\n",
    "    "
   ]
  },
  {
   "cell_type": "code",
   "execution_count": null,
   "metadata": {
    "collapsed": true,
    "deletable": true,
    "editable": true
   },
   "outputs": [],
   "source": [
    "counter=0\n",
    "total=0\n",
    "for i in cluster_dict.keys():\n",
    "    total += len(list(cluster_dict[i]))\n",
    "\n",
    "strt=datetime.datetime.today()\n",
    "for sr,i in enumerate(cluster_dict.keys()):\n",
    "    for j in list(cluster_dict[i]):\n",
    "        lats=end_point[0] - (data[j,1]*px_lat)/111\n",
    "        longs=(data[j,0]*px_long)/97 + start_point[1]\n",
    "        \n",
    "        farm_coor=str(lats)+','+str(longs)\n",
    "        farm_area=data[j,2]*247\n",
    "        \n",
    "        df2.loc[counter]=[i,df.loc[i,'Origin_Address'],farm_coor,farm_area]\n",
    "        progressing(strt,counter,total)\n",
    "        counter += 1\n",
    "        "
   ]
  },
  {
   "cell_type": "code",
   "execution_count": null,
   "metadata": {
    "collapsed": true,
    "deletable": true,
    "editable": true
   },
   "outputs": [],
   "source": []
  },
  {
   "cell_type": "code",
   "execution_count": null,
   "metadata": {
    "collapsed": true,
    "deletable": true,
    "editable": true
   },
   "outputs": [],
   "source": [
    "distance=[]\n",
    "for i in df.Distance.values:\n",
    "    distance.append(float(i.split(' ')[0]))\n",
    "\n",
    "df['Distance_derived']=distance\n",
    "df['Distance_x_Area']=df['Cluster_Area(Acres)'] / distance"
   ]
  },
  {
   "cell_type": "code",
   "execution_count": null,
   "metadata": {
    "collapsed": true,
    "deletable": true,
    "editable": true
   },
   "outputs": [],
   "source": []
  },
  {
   "cell_type": "markdown",
   "metadata": {
    "deletable": true,
    "editable": true
   },
   "source": [
    "# Presenting Results Top n Recommendations"
   ]
  },
  {
   "cell_type": "code",
   "execution_count": null,
   "metadata": {
    "collapsed": true,
    "deletable": true,
    "editable": true
   },
   "outputs": [],
   "source": [
    "n=6"
   ]
  },
  {
   "cell_type": "code",
   "execution_count": null,
   "metadata": {
    "collapsed": true,
    "deletable": true,
    "editable": true
   },
   "outputs": [],
   "source": [
    "dd=df.nsmallest(n,columns='Distance_derived') #BAsed on min distance"
   ]
  },
  {
   "cell_type": "code",
   "execution_count": null,
   "metadata": {
    "collapsed": true,
    "deletable": true,
    "editable": true
   },
   "outputs": [],
   "source": []
  },
  {
   "cell_type": "code",
   "execution_count": null,
   "metadata": {
    "collapsed": true,
    "deletable": true,
    "editable": true
   },
   "outputs": [],
   "source": [
    "dd=df.nlargest(n,columns='Distance_x_Area') #Based on max of Area_per_distance"
   ]
  },
  {
   "cell_type": "code",
   "execution_count": null,
   "metadata": {
    "collapsed": true,
    "deletable": true,
    "editable": true
   },
   "outputs": [],
   "source": []
  },
  {
   "cell_type": "markdown",
   "metadata": {
    "deletable": true,
    "editable": true
   },
   "source": [
    "# Plotting Results"
   ]
  },
  {
   "cell_type": "code",
   "execution_count": null,
   "metadata": {
    "collapsed": true,
    "deletable": true,
    "editable": true
   },
   "outputs": [],
   "source": [
    "plt.figure(figsize=(15,15))\n",
    "plt.xlim(0,30000)\n",
    "plt.ylim(0,30000)\n",
    "for sr,i in enumerate(cluster_dict.keys()):\n",
    "    cluster_label=list(cluster_dict[i])\n",
    "    color=['black' if i==-1 else color_list[sr%len(color_list)]]\n",
    "    if i in dd.index:\n",
    "        mark='x'\n",
    "    else:\n",
    "        mark='o'\n",
    "    plt.scatter(data[cluster_label,0],img_height-data[cluster_label,1],marker=mark,c=color,s=[data[cluster_label,2]/max(data[:,2])*10000])\n",
    "    plt.annotate(i,(km.cluster_centers_[i][0],img_height-km.cluster_centers_[i][1]))\n",
    "    print(i, np.sum(data[cluster_label,2])*247 ,color)\n",
    "\n",
    "##plotting DIC on map\n",
    "\n",
    "dic_lat=int((end_point[0] - dic_coor[0])*111/px_lat)\n",
    "dic_long=int((dic_coor[1] - start_point[1])*97/px_long)\n",
    "plt.scatter(dic_lat,img_height-dic_long,c='black',s=1000,marker='*')"
   ]
  },
  {
   "cell_type": "code",
   "execution_count": null,
   "metadata": {
    "collapsed": true,
    "deletable": true,
    "editable": true
   },
   "outputs": [],
   "source": []
  },
  {
   "cell_type": "code",
   "execution_count": null,
   "metadata": {
    "collapsed": true,
    "deletable": true,
    "editable": true
   },
   "outputs": [],
   "source": []
  },
  {
   "cell_type": "code",
   "execution_count": null,
   "metadata": {
    "collapsed": true,
    "deletable": true,
    "editable": true
   },
   "outputs": [],
   "source": []
  },
  {
   "cell_type": "code",
   "execution_count": null,
   "metadata": {
    "collapsed": true,
    "deletable": true,
    "editable": true
   },
   "outputs": [],
   "source": []
  },
  {
   "cell_type": "markdown",
   "metadata": {
    "deletable": true,
    "editable": true
   },
   "source": [
    "#LAT -> 0.6099450000003728 km ==> (30.659516000000004 - 30.654021 )*111\n",
    "\n",
    "#LONG -> 1.0432350000016868 km ==> (76.27289400000002 - 76.262139)*97"
   ]
  },
  {
   "cell_type": "code",
   "execution_count": null,
   "metadata": {
    "collapsed": true,
    "deletable": true,
    "editable": true
   },
   "outputs": [],
   "source": []
  },
  {
   "cell_type": "markdown",
   "metadata": {
    "deletable": true,
    "editable": true
   },
   "source": [
    "1px lat val (vertical) 0.0020331500000012426 km\n",
    "\n",
    "#1px long val (horizontal) 0.0020864700000033736 km\n",
    "\n",
    "#Area of 1px -> 4.2421064805094516e-06 km^2"
   ]
  },
  {
   "cell_type": "code",
   "execution_count": null,
   "metadata": {
    "collapsed": true,
    "deletable": true,
    "editable": true
   },
   "outputs": [],
   "source": []
  }
 ],
 "metadata": {
  "kernelspec": {
   "display_name": "Python 3",
   "language": "python",
   "name": "python3"
  },
  "language_info": {
   "codemirror_mode": {
    "name": "ipython",
    "version": 3
   },
   "file_extension": ".py",
   "mimetype": "text/x-python",
   "name": "python",
   "nbconvert_exporter": "python",
   "pygments_lexer": "ipython3",
   "version": "3.5.2"
  }
 },
 "nbformat": 4,
 "nbformat_minor": 2
}
